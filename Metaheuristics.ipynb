{
 "cells": [
  {
   "cell_type": "code",
   "execution_count": null,
   "metadata": {},
   "outputs": [],
   "source": [
    "%reset -f\n",
    "%load_ext autoreload\n",
    "%autoreload 2\n",
    "\n",
    "import numpy as np\n",
    "import Metaheuristics as metah\n",
    "import plot_tsp"
   ]
  },
  {
   "cell_type": "code",
   "execution_count": null,
   "metadata": {},
   "outputs": [],
   "source": [
    "#inputs\n",
    "rand_Dist_File = 'TSP_Rand_25_dist.csv'\n",
    "rand_Coords_File = 'TSP_Rand_25_coords.csv'\n",
    "\n",
    "circ_Dist_File = 'TSP_Circle_50_dist.csv'\n",
    "circ_Coords_File = 'TSP_Circle_50_coords.csv'\n",
    "\n",
    "# VNS, LS, SA\n",
    "count_limit = 50000 #max number of iterationsbefore stopping (stopping condition)\n",
    "fail_limit = 1000 # number of times a neighborhood can fail the generate a better solution before changing neigborhoods\n",
    "Temp = 100 #temperature value for Simulated annealing\n",
    "\n",
    "#GA\n",
    "count_limit2 = 1000 #max number of iterations before stopping (stopping condition)\n",
    "num_chromosomes = 50 #population size in GA - must be an even number\n",
    "\n",
    "# PS\n",
    "num_particles = 50 #number of points in particle swarm\n",
    "weights = np.array([1,1,1]) #weights are w, c1 and c2\n",
    "count_limit3 = 1000 #max number of iterations before stopping (stopping condition)\n",
    "\n",
    "#load data\n",
    "D_rand = np.genfromtxt(rand_Dist_File, delimiter=',')\n",
    "D_circ = np.genfromtxt(circ_Dist_File, delimiter=',')\n",
    "#inital tour is starting at city 0 and moving to city 1, city 1 to city 2 and so on\n",
    "rand_initial_tour = np.arange(D_rand.shape[0],dtype=int)\n",
    "rand_initial_tour = np.random.permutation(rand_initial_tour)\n",
    "\n",
    "circ_initial_tour = np.arange(D_circ.shape[0],dtype=int)\n",
    "circ_initial_tour = np.random.permutation(circ_initial_tour)"
   ]
  },
  {
   "cell_type": "markdown",
   "metadata": {},
   "source": [
    "# Greedy Search (Lower bound estimation)"
   ]
  },
  {
   "cell_type": "code",
   "execution_count": null,
   "metadata": {},
   "outputs": [],
   "source": [
    "est, v= metah.EstimateLowerBound(D_rand)\n",
    "print('estimated lower bound',v)\n",
    "plot_tsp.plot_tsp_solution(rand_Coords_File,est)\n",
    "\n",
    "est, v= metah.EstimateLowerBound(D_circ)\n",
    "print('estimated lower bound',v)\n",
    "plot_tsp.plot_tsp_solution(circ_Coords_File,est)"
   ]
  },
  {
   "cell_type": "markdown",
   "metadata": {},
   "source": [
    "# Variable Neighborhood Search (VNS)"
   ]
  },
  {
   "cell_type": "code",
   "execution_count": null,
   "metadata": {},
   "outputs": [],
   "source": [
    "# rand VNS\n",
    "best_tour, best_solution, [best_tours, itrs] = metah.Variable_Neighborhood_Search(D_rand,rand_initial_tour,fail_limit, count_limit)\n",
    "plot_tsp.plot_tsp_solution(rand_Coords_File,best_tour)\n",
    "\n",
    "plot_tsp.animated_plot(rand_Coords_File, best_tours,itrs,'tsp_VNS25_rand.mp4')\n"
   ]
  },
  {
   "cell_type": "code",
   "execution_count": null,
   "metadata": {},
   "outputs": [],
   "source": [
    "# circle VNS\n",
    "best_tour, best_solution, [best_tours, itrs] = metah.Variable_Neighborhood_Search(D_circ,circ_initial_tour,fail_limit, count_limit)\n",
    "plot_tsp.plot_tsp_solution(circ_Coords_File,best_tour)\n",
    "\n",
    "plot_tsp.animated_plot(circ_Coords_File, best_tours,itrs,'tsp_VNS50_circ.mp4')\n",
    "\n"
   ]
  },
  {
   "cell_type": "markdown",
   "metadata": {},
   "source": [
    "# Genetic Algorithm (GA)"
   ]
  },
  {
   "cell_type": "code",
   "execution_count": null,
   "metadata": {},
   "outputs": [],
   "source": [
    "# rand GA\n",
    "best_tour, best_solution, [best_tours, itrs] = metah.GA(D_rand,count_limit2, num_chromosomes)\n",
    "plot_tsp.plot_tsp_solution(rand_Coords_File,best_tour)\n",
    "plot_tsp.animated_plot(rand_Coords_File, best_tours,itrs,'tsp_GA25_circ.mp4')"
   ]
  },
  {
   "cell_type": "code",
   "execution_count": null,
   "metadata": {},
   "outputs": [],
   "source": [
    "# circ GA\n",
    "best_tour, best_solution, [best_tours, itrs] = metah.GA(D_circ,count_limit2, num_chromosomes)\n",
    "plot_tsp.plot_tsp_solution(circ_Coords_File,best_tour)\n",
    "plot_tsp.animated_plot(circ_Coords_File, best_tours,itrs,'tsp_GA50_circ.mp4')"
   ]
  },
  {
   "cell_type": "markdown",
   "metadata": {},
   "source": [
    "# Simulated Annealing (SA)"
   ]
  },
  {
   "cell_type": "code",
   "execution_count": null,
   "metadata": {},
   "outputs": [],
   "source": [
    "# rand SA\n",
    "best_tour, best_solution, [best_tours, itrs] = metah.Simulated_Annealing(D_rand,rand_initial_tour, count_limit,Temp)\n",
    "plot_tsp.plot_tsp_solution(rand_Coords_File,best_tour)\n",
    "plot_tsp.animated_plot(rand_Coords_File, best_tours,itrs,'tsp_SA25_circ.mp4')"
   ]
  },
  {
   "cell_type": "code",
   "execution_count": null,
   "metadata": {},
   "outputs": [],
   "source": [
    "# circ SA\n",
    "best_tour, best_solution, [best_tours, itrs] = metah.Simulated_Annealing(D_circ,circ_initial_tour, count_limit,Temp)\n",
    "plot_tsp.plot_tsp_solution(circ_Coords_File,best_tour)\n",
    "plot_tsp.animated_plot(circ_Coords_File, best_tours,itrs,'tsp_SA50_circ.mp4')"
   ]
  },
  {
   "cell_type": "markdown",
   "metadata": {},
   "source": [
    "# Local Search (LS)"
   ]
  },
  {
   "cell_type": "code",
   "execution_count": null,
   "metadata": {},
   "outputs": [],
   "source": [
    "# rand LS\n",
    "best_tour, best_solution, [best_tours, itrs] = metah.Local_Search(D_rand,rand_initial_tour, count_limit)\n",
    "plot_tsp.plot_tsp_solution(rand_Coords_File,best_tour)\n",
    "plot_tsp.animated_plot(rand_Coords_File, best_tours,itrs,'tsp_LS25_circ.mp4')"
   ]
  },
  {
   "cell_type": "code",
   "execution_count": null,
   "metadata": {},
   "outputs": [],
   "source": [
    "# circ LS\n",
    "best_tour, best_solution, [best_tours, itrs] = metah.Local_Search(D_circ,circ_initial_tour, count_limit)\n",
    "plot_tsp.plot_tsp_solution(circ_Coords_File,best_tour)\n",
    "plot_tsp.animated_plot(circ_Coords_File, best_tours,itrs,'tsp_LS50_circ.mp4')"
   ]
  },
  {
   "cell_type": "markdown",
   "metadata": {},
   "source": [
    "# Particle Swarm (PS)"
   ]
  },
  {
   "cell_type": "code",
   "execution_count": null,
   "metadata": {},
   "outputs": [],
   "source": [
    "# rand PS\n",
    "best_tour, best_solution, [best_tours, itrs] = metah.Particle_Swarm(D_rand,count_limit3, weights, num_particles,rand_initial_tour)\n",
    "plot_tsp.plot_tsp_solution(rand_Coords_File,best_tour)\n",
    "plot_tsp.animated_plot(rand_Coords_File, best_tours,itrs,'tsp_PS25_circ.mp4')"
   ]
  },
  {
   "cell_type": "code",
   "execution_count": null,
   "metadata": {},
   "outputs": [],
   "source": [
    "# circ PS\n",
    "best_tour, best_solution, [best_tours, itrs] = metah.Particle_Swarm(D_circ,count_limit3, weights, num_particles,circ_initial_tour)\n",
    "plot_tsp.plot_tsp_solution(circ_Coords_File,best_tour)\n",
    "plot_tsp.animated_plot(circ_Coords_File, best_tours,itrs,'tsp_PS50_circ.mp4')"
   ]
  }
 ],
 "metadata": {
  "kernelspec": {
   "display_name": "research",
   "language": "python",
   "name": "python3"
  },
  "language_info": {
   "codemirror_mode": {
    "name": "ipython",
    "version": 3
   },
   "file_extension": ".py",
   "mimetype": "text/x-python",
   "name": "python",
   "nbconvert_exporter": "python",
   "pygments_lexer": "ipython3",
   "version": "3.11.7"
  }
 },
 "nbformat": 4,
 "nbformat_minor": 2
}
